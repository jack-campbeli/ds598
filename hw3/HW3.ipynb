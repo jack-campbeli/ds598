{
 "cells": [
  {
   "cell_type": "markdown",
   "metadata": {
    "id": "67CoRHqXVctX"
   },
   "source": [
    "# Homework 3: Exploration in RL (due 11:59PM, April 5th, 2024)\n",
    "\n",
    "In this homework, you will implement and compare a number of exploration strategies."
   ]
  },
  {
   "cell_type": "markdown",
   "metadata": {},
   "source": [
    "## Problem 1 (2 points)\n",
    "\n",
    "Implement a **combination lock MDP** of length H = 20, number of actions A = 10, number of states per step = 3. Denote the states as $\\{s_{h;1}, s_{h;2}, s_{h;3}\\}_{h=1:20}$. While initializing the MDP, uniformly randomly choose one out of ten actions for each stage as the **good action**, denoted as $\\{a^*_h\\}_{h=1:20}$. Define the transition as: \n",
    "\n",
    "$$P(s_{h+1;1}|s_{h;1},a^*_h)=P(s_{h+1;2}|s_{h;1},a^*_h)=P(s_{h+1;1}|s_{h;2},a^*_h)=P(s_{h+1;2}|s_{h;2},a^*_h)=0.5$$\n",
    "while for $a\\neq a^*_h$,\n",
    "$$P(s_{h+1;3}|s_{h;1},a)=P(s_{h+1;3}|s_{h;2},a)=P(s_{h+1;3}|s_{h;3},a)=1$$\n",
    "Lastly, if you are in the bad state, for any action $a$,\n",
    "$$P(s_{h+1;3}|s_{h;3},a)=1$$\n",
    "In terms of rewards, the agent receives a reward of 10 upon reaching $s_{H,1}$ or $s_{H,2}$, at which point the episode will also reset. Otherwise the reward will always be 0."
   ]
  },
  {
   "attachments": {
    "image-2.png": {
     "image/png": "[encoded data removed]"
    },
    "image-3.png": {
     "image/png": "[encoded data removed]"
    },
    "image-4.png": {
     "image/png": "[encoded data removed]"
    },
    "image-5.png": {
     "image/png": "[encoded data removed]"
    },
    "image.png": {
     "image/png": "[encoded data removed]"
    }
   },
   "cell_type": "markdown",
   "metadata": {},
   "source": [
    "**************************************************************************************************************\n",
    "**************************************************************************************************************\n",
    "### My Notes\n",
    "1. ![image-5.png](attachment:image-5.png) <- there are 3 states per step, and each state ranges from 1-20.\n",
    "1. ![image.png](attachment:image.png) = the probability of transitioning from state $s_{h;1}$ to $s_{h+1;1}$ given the good action is taken.\n",
    "2. ![image-2.png](attachment:image-2.png) <- shows that the probability of going from one state to another is the same regardless of whether we consider all past states or only a portion of them.\n",
    "3. ![image-3.png](attachment:image-3.png) <- shows that regardless of previous sets of actions taken, the probability of transitioning to the next sequence of states is always 1.\n",
    "4. ![image-4.png](attachment:image-4.png) <- if you are in a bad state, the probability of transitioning to the next state is always 1.\n",
    "**************************************************************************************************************\n",
    "### MDP Steps\n",
    "- At each step h, the agent can choose one action from the set of 10 possible actions.\n",
    "- Only one action at each step leads to the optimal path (the \"good action\").\n",
    "- The sequence of good actions from step 1 to step 20 can be thought of as the combination to the \"lock.\"\n",
    "**************************************************************************************************************\n",
    "### Definitions\n",
    "- A **good state** is a state that returns a high amount of reward. \n",
    "- A **bad state** is a state that returns a low amount of reward."
   ]
  },
  {
   "cell_type": "code",
   "execution_count": 24,
   "metadata": {},
   "outputs": [],
   "source": [
    "import gym\n",
    "from gym import spaces\n",
    "import torch\n",
    "import torch.nn as nn\n",
    "import torch.optim as optim\n",
    "from torch.distributions import Categorical\n",
    "import random\n",
    "from collections import deque, namedtuple \n",
    "import numpy as np\n",
    "import matplotlib.pyplot as plt"
   ]
  },
  {
   "cell_type": "code",
   "execution_count": 31,
   "metadata": {
    "id": "h_dSFrzHVctZ",
    "outputId": "1fa71d66-2132-4052-e42b-5169455f8ea7"
   },
   "outputs": [],
   "source": [
    "class CombLockMDP(gym.Env):\n",
    "    \"\"\"\n",
    "    Methods:\n",
    "        reset(): Resets the environment to the starting state.\n",
    "        step(action): Takes a step in the environment.\n",
    "    \"\"\"\n",
    "\n",
    "    def __init__(self, H=20, A=10, S=3, R=10, seed=0):\n",
    "        ## Fill in here\n",
    "        ## use the seed input as the random seed when generating the good actions.\n",
    "        \n",
    "        self.H = H  # horizon\n",
    "        self.A = A  # Number of actions\n",
    "        self.S = S  # Number of states per step\n",
    "        self.R = R  # Reward\n",
    "        self.seed = seed \n",
    "        self.np_random = np.random.RandomState(self.seed)\n",
    "        \n",
    "        # Generate a set of 10 good actions for each step\n",
    "        self.good_actions = self.np_random.choice(self.A, self.H)\n",
    "\n",
    "        # Initialize the current state\n",
    "        self.current_state = 0\n",
    "        self.current_step = 0\n",
    "\n",
    "    def reset(self, bool):\n",
    "        \n",
    "        ## Fill in here\n",
    "        self.current_state = np.random.randint(0, self.S)\n",
    "        self.current_step = 0\n",
    "        if bool:\n",
    "            return np.array(self.current_state)\n",
    "        else:\n",
    "            self.current_state = 0\n",
    "\n",
    "    def step(self, action):\n",
    "        # Check if the action is the set of \"good\" actions\n",
    "        if action == self.good_actions[self.current_step]:\n",
    "            # If at the last step and the action is good, receive reward and reset\n",
    "            if self.current_step == self.H - 1:\n",
    "                reward = self.R\n",
    "                self.current_state = 0\n",
    "                self.current_step = 0\n",
    "                done = True\n",
    "            # If not at the last step, simply move to the next step\n",
    "            else:\n",
    "                reward = 0\n",
    "                self.current_state += 1\n",
    "                self.current_step += 1\n",
    "                done = False\n",
    "        else:\n",
    "            # If the action is not good, move to the bad state of this step\n",
    "            self.current_state = self.current_step * self.S + (self.S - 1)\n",
    "            reward = 0\n",
    "            done = True  # End the episode if the wrong action is taken\n",
    "\n",
    "        return np.array(self.current_state), reward, done, {}"
   ]
  },
  {
   "cell_type": "markdown",
   "metadata": {
    "id": "_yTjoCWGVcta"
   },
   "source": [
    "## Problem 2 (2 points)\n",
    "\n",
    "Implement the UCBVI algorithm with reward bonus $b_h(s,a)=\\alpha\\sqrt{1/N_h(s,a)}$, where $\\alpha$ is a hyperparameter that you will tune.\n",
    "\n",
    "Run UCBVI in the combination lock MDP (with turned $\\alpha$) and plot its learning curve: Cumulative reward v.s. training episode same as in HW2."
   ]
  },
  {
   "cell_type": "code",
   "execution_count": 32,
   "metadata": {},
   "outputs": [],
   "source": [
    "import numpy as np\n",
    "\n",
    "class UCBVI(object):\n",
    "    def __init__(self, action_space, alpha=1):\n",
    "        self.alpha = alpha\n",
    "        self.action_space = action_space\n",
    "        self.q_values = {}  # Using a dict to store Q-values, initialized as needed\n",
    "        self.counts = {}    # Using a dict to store counts, initialized as needed\n",
    "\n",
    "    def update(self, state, action, reward, next_state, done):\n",
    "        # Initialize Q-value and count if encountering a new state-action pair\n",
    "        if (state, action) not in self.q_values:\n",
    "            self.q_values[(state, action)] = 0\n",
    "            self.counts[(state, action)] = 0\n",
    "\n",
    "        # Update count\n",
    "        self.counts[(state, action)] += 1\n",
    "\n",
    "        # Compute the bonus\n",
    "        bonus = self.alpha / np.sqrt(self.counts[(state, action)])\n",
    "\n",
    "        # Assume 0 for Q-value of the next state if 'done' flag is True or next_state is new\n",
    "        q_next = max([self.q_values.get((next_state, a), 0) for a in range(self.action_space)]) if not done else 0\n",
    "        \n",
    "        # Update the Q-value with the standard Q-learning update rule\n",
    "        self.q_values[(state, action)] += (reward + bonus + q_next - self.q_values[(state, action)]) / self.counts[(state, action)]\n",
    "\n",
    "    def action(self, state):\n",
    "        # Here we assume that 'self.action_space' is available or somehow defined\n",
    "        q_values_with_bonus = {a: self.q_values.get((state, a), 0) + self.alpha / np.sqrt(self.counts.get((state, a), 1))\n",
    "                               for a in range(self.action_space)}\n",
    "        \n",
    "        # Select the action with the highest Q-value + bonus\n",
    "        return max(q_values_with_bonus, key=q_values_with_bonus.get)\n"
   ]
  },
  {
   "cell_type": "code",
   "execution_count": 34,
   "metadata": {},
   "outputs": [
    {
     "name": "stdout",
     "output_type": "stream",
     "text": [
      "Complete\n"
     ]
    },
    {
     "data": {
      "image/png": "[encoded data removed]",
      "text/plain": [
       "<Figure size 640x480 with 1 Axes>"
      ]
     },
     "metadata": {},
     "output_type": "display_data"
    }
   ],
   "source": [
    "# Training loop: use a large enough num_episodes that make the algorithm converge.\n",
    "num_episodes = 1000000\n",
    "\n",
    "# Create an instance of the environment\n",
    "env = CombLockMDP()\n",
    "\n",
    "# Create an instance of UCBVI\n",
    "# remember to tune your alpha!!!\n",
    "\n",
    "alpha = 0.1\n",
    "agent = UCBVI(env.A, alpha) \n",
    "\n",
    "total_rewards = np.zeros(num_episodes)\n",
    "\n",
    "for i_episode in range(num_episodes):\n",
    "    state = env.reset(bool=False)\n",
    "    for h in range(env.H):\n",
    "        action = agent.action(state)\n",
    "        next_state, reward, done, _ = env.step(action)\n",
    "        total_rewards[i_episode] += reward\n",
    "        agent.update(state,action,next_state,reward, done)\n",
    "        state = next_state\n",
    "        if done:\n",
    "            break\n",
    "\n",
    "print('Complete')\n",
    "plt.plot(total_rewards)\n",
    "plt.xlabel('Episode')\n",
    "plt.ylabel('Total reward')\n",
    "plt.title('Training Performance')\n",
    "plt.show()"
   ]
  },
  {
   "cell_type": "markdown",
   "metadata": {
    "id": "BgvWmycHVcta"
   },
   "source": [
    "## Problem 3 (2 points)\n",
    "\n",
    "Implement DQN with $\\epsilon$-greedy, where $\\epsilon$ is a hyperparameter that you will tune. (You should have already have this code from HW2!)\n",
    "\n",
    "Run DQN+$\\epsilon$-greedy in the combination lock MDP (with turned $\\epsilon$) and plot its learning curve: Cumulative reward v.s. training episode same as in HW2."
   ]
  },
  {
   "cell_type": "code",
   "execution_count": null,
   "metadata": {},
   "outputs": [],
   "source": [
    "def discounted_cumsum(x: np.ndarray, gamma: float) -> np.ndarray:\n",
    "    cumsum = np.zeros_like(x)\n",
    "    cumsum[-1] = x[-1]\n",
    "    for t in reversed(range(x.shape[0] - 1)):\n",
    "        cumsum[t] = x[t] + gamma * cumsum[t + 1]\n",
    "    return cumsum"
   ]
  },
  {
   "cell_type": "code",
   "execution_count": null,
   "metadata": {
    "id": "2NYntq8NVctb"
   },
   "outputs": [],
   "source": [
    "class QNetwork(nn.Module):\n",
    "    def __init__(self, state_size, action_size, hidden_size=64):\n",
    "        super(QNetwork, self).__init__()\n",
    "        self.fc1 = nn.Linear(state_size, hidden_size)\n",
    "        self.fc2 = nn.Linear(hidden_size, action_size)\n",
    "\n",
    "    def forward(self, state):\n",
    "        state = torch.relu(self.fc1(state))\n",
    "        return self.fc2(state)\n",
    "\n",
    "\n",
    "class ReplayBuffer:\n",
    "    def __init__(self, buffer_size, batch_size):\n",
    "        self.memory = deque(maxlen=buffer_size)\n",
    "        self.batch_size = batch_size\n",
    "        self.experience = namedtuple(\"Experience\", field_names=[\"state\", \"action\", \"reward\", \"next_state\", \"done\"])\n",
    "\n",
    "    def add(self, state, action, reward, next_state, done):\n",
    "        e = self.experience(state, action, reward, next_state, done)\n",
    "        self.memory.append(e)\n",
    "\n",
    "    def sample(self):\n",
    "        experiences = random.sample(self.memory, k=self.batch_size)\n",
    "\n",
    "        states = torch.from_numpy(np.vstack([e.state for e in experiences if e is not None])).float()\n",
    "        actions = torch.from_numpy(np.vstack([e.action for e in experiences if e is not None])).long()\n",
    "        rewards = torch.from_numpy(np.vstack([e.reward for e in experiences if e is not None])).float()\n",
    "        next_states = torch.from_numpy(np.vstack([e.next_state for e in experiences if e is not None])).float()\n",
    "        dones = torch.from_numpy(np.vstack([e.done for e in experiences if e is not None]).astype(np.uint8)).float()\n",
    "\n",
    "        return (states, actions, rewards, next_states, dones)\n",
    "\n",
    "    def __len__(self):\n",
    "        return len(self.memory)\n",
    "\n",
    "\n",
    "class DQNAgent:\n",
    "    def __init__(self, state_size, action_size, hidden_size, \n",
    "                 buffer_size, batch_size, update_every,\n",
    "                 learning_rate, gamma, tau, device, use_duoble_dqn=False):\n",
    "        self.state_size = state_size\n",
    "        self.action_size = action_size\n",
    "        self.batch_size = batch_size\n",
    "        self.update_every = update_every\n",
    "        self.gamma = gamma\n",
    "        self.tau = tau\n",
    "        self.device = device\n",
    "        self.update_steps = 0\n",
    "        self.use_duoble_dqn = use_duoble_dqn\n",
    "\n",
    "        self.q = QNetwork(state_size, action_size, hidden_size).to(device)\n",
    "        self.q_targ = QNetwork(state_size, action_size, hidden_size).to(device)\n",
    "        self.optimizer = optim.Adam(self.q.parameters(), lr=learning_rate)\n",
    "        self.memory = ReplayBuffer(buffer_size, batch_size)\n",
    "    \n",
    "    def step(self, state, action, reward, next_state, done):\n",
    "        self.memory.add(state, action, reward, next_state, done)\n",
    "        \n",
    "    def train(self):\n",
    "        if len(self.memory) > self.batch_size:\n",
    "            experiences = self.memory.sample()\n",
    "            self.learn(experiences)\n",
    "        \n",
    "        if (self.update_steps + 1) % self.update_every == 0:\n",
    "            self.soft_update()\n",
    "\n",
    "    def act(self, state, eps=0.):\n",
    "        state = torch.from_numpy(state).float().unsqueeze(0).to(self.device)\n",
    "        self.q.eval()\n",
    "        with torch.no_grad():\n",
    "            action_values = self.q(state)\n",
    "        self.q.train()\n",
    " \n",
    "        if random.random() > eps:\n",
    "            return np.argmax(action_values.numpy())\n",
    "        else:\n",
    "            return random.choice(np.arange(self.action_size))\n",
    "\n",
    "    def learn(self, experiences):\n",
    "        states, actions, rewards, next_states, dones = experiences\n",
    "        # print(states.shape, actions.shape)\n",
    "        criterion = nn.MSELoss()\n",
    "        self.optimizer.zero_grad()\n",
    "\n",
    "        # Get expected Q values from local model\n",
    "        Q_expected = self.q(states).gather(1, actions)\n",
    "\n",
    "        # Get max predicted Q values (for next states) from target model\n",
    "        if not self.use_duoble_dqn:\n",
    "            Q_targets_next = self.q_targ(next_states).max(1)[0].unsqueeze(1)\n",
    "        else:\n",
    "            Q_local_max_actions = self.q(next_states).max(1)[1].unsqueeze(1)\n",
    "            Q_targets_next = self.q_targ(next_states).gather(1, Q_local_max_actions)\n",
    "\n",
    "        # Compute Q targets for current states \n",
    "        Q_targets = rewards + (self.gamma * Q_targets_next * (1 - dones))\n",
    "\n",
    "\n",
    "        # Compute loss\n",
    "        loss = criterion(Q_expected, Q_targets)\n",
    "        loss.backward()\n",
    "        self.optimizer.step()        \n",
    "        self.update_steps += 1\n",
    "\n",
    "    def soft_update(self):\n",
    "        for target_param, local_param in zip(self.q_targ.parameters(), self.q.parameters()):\n",
    "            target_param.data.copy_(self.tau*local_param.data + (1.0-self.tau)*target_param.data)"
   ]
  },
  {
   "cell_type": "code",
   "execution_count": null,
   "metadata": {},
   "outputs": [
    {
     "ename": "KeyboardInterrupt",
     "evalue": "",
     "output_type": "error",
     "traceback": [
      "\u001b[1;31m---------------------------------------------------------------------------\u001b[0m",
      "\u001b[1;31mKeyboardInterrupt\u001b[0m                         Traceback (most recent call last)",
      "Cell \u001b[1;32mIn[23], line 64\u001b[0m\n\u001b[0;32m     62\u001b[0m score \u001b[38;5;241m=\u001b[39m []\n\u001b[0;32m     63\u001b[0m \u001b[38;5;28;01mfor\u001b[39;00m t \u001b[38;5;129;01min\u001b[39;00m \u001b[38;5;28mrange\u001b[39m(max_len):\n\u001b[1;32m---> 64\u001b[0m     action \u001b[38;5;241m=\u001b[39m \u001b[43magent\u001b[49m\u001b[38;5;241;43m.\u001b[39;49m\u001b[43mact\u001b[49m\u001b[43m(\u001b[49m\u001b[43mstate\u001b[49m\u001b[43m,\u001b[49m\u001b[43m \u001b[49m\u001b[43meps\u001b[49m\u001b[38;5;241;43m=\u001b[39;49m\u001b[38;5;241;43m0.0\u001b[39;49m\u001b[43m)\u001b[49m\n\u001b[0;32m     65\u001b[0m     next_state, reward, done, _ \u001b[38;5;241m=\u001b[39m env\u001b[38;5;241m.\u001b[39mstep(action)\n\u001b[0;32m     66\u001b[0m     score\u001b[38;5;241m.\u001b[39mappend(reward)\n",
      "Cell \u001b[1;32mIn[18], line 68\u001b[0m, in \u001b[0;36mDQNAgent.act\u001b[1;34m(self, state, eps)\u001b[0m\n\u001b[0;32m     67\u001b[0m \u001b[38;5;28;01mdef\u001b[39;00m \u001b[38;5;21mact\u001b[39m(\u001b[38;5;28mself\u001b[39m, state, eps\u001b[38;5;241m=\u001b[39m\u001b[38;5;241m0.\u001b[39m):\n\u001b[1;32m---> 68\u001b[0m     state \u001b[38;5;241m=\u001b[39m \u001b[43mtorch\u001b[49m\u001b[38;5;241m.\u001b[39mfrom_numpy(state)\u001b[38;5;241m.\u001b[39mfloat()\u001b[38;5;241m.\u001b[39munsqueeze(\u001b[38;5;241m0\u001b[39m)\u001b[38;5;241m.\u001b[39mto(\u001b[38;5;28mself\u001b[39m\u001b[38;5;241m.\u001b[39mdevice)\n\u001b[0;32m     69\u001b[0m     \u001b[38;5;28mself\u001b[39m\u001b[38;5;241m.\u001b[39mq\u001b[38;5;241m.\u001b[39meval()\n\u001b[0;32m     70\u001b[0m     \u001b[38;5;28;01mwith\u001b[39;00m torch\u001b[38;5;241m.\u001b[39mno_grad():\n",
      "Cell \u001b[1;32mIn[18], line 68\u001b[0m, in \u001b[0;36mDQNAgent.act\u001b[1;34m(self, state, eps)\u001b[0m\n\u001b[0;32m     67\u001b[0m \u001b[38;5;28;01mdef\u001b[39;00m \u001b[38;5;21mact\u001b[39m(\u001b[38;5;28mself\u001b[39m, state, eps\u001b[38;5;241m=\u001b[39m\u001b[38;5;241m0.\u001b[39m):\n\u001b[1;32m---> 68\u001b[0m     state \u001b[38;5;241m=\u001b[39m \u001b[43mtorch\u001b[49m\u001b[38;5;241m.\u001b[39mfrom_numpy(state)\u001b[38;5;241m.\u001b[39mfloat()\u001b[38;5;241m.\u001b[39munsqueeze(\u001b[38;5;241m0\u001b[39m)\u001b[38;5;241m.\u001b[39mto(\u001b[38;5;28mself\u001b[39m\u001b[38;5;241m.\u001b[39mdevice)\n\u001b[0;32m     69\u001b[0m     \u001b[38;5;28mself\u001b[39m\u001b[38;5;241m.\u001b[39mq\u001b[38;5;241m.\u001b[39meval()\n\u001b[0;32m     70\u001b[0m     \u001b[38;5;28;01mwith\u001b[39;00m torch\u001b[38;5;241m.\u001b[39mno_grad():\n",
      "File \u001b[1;32m_pydevd_bundle/pydevd_cython.pyx:1457\u001b[0m, in \u001b[0;36m_pydevd_bundle.pydevd_cython.SafeCallWrapper.__call__\u001b[1;34m()\u001b[0m\n",
      "File \u001b[1;32m_pydevd_bundle/pydevd_cython.pyx:701\u001b[0m, in \u001b[0;36m_pydevd_bundle.pydevd_cython.PyDBFrame.trace_dispatch\u001b[1;34m()\u001b[0m\n",
      "File \u001b[1;32m_pydevd_bundle/pydevd_cython.pyx:1395\u001b[0m, in \u001b[0;36m_pydevd_bundle.pydevd_cython.PyDBFrame.trace_dispatch\u001b[1;34m()\u001b[0m\n",
      "File \u001b[1;32m_pydevd_bundle/pydevd_cython.pyx:1344\u001b[0m, in \u001b[0;36m_pydevd_bundle.pydevd_cython.PyDBFrame.trace_dispatch\u001b[1;34m()\u001b[0m\n",
      "File \u001b[1;32m_pydevd_bundle/pydevd_cython.pyx:312\u001b[0m, in \u001b[0;36m_pydevd_bundle.pydevd_cython.PyDBFrame.do_wait_suspend\u001b[1;34m()\u001b[0m\n",
      "File \u001b[1;32m~\\AppData\\Roaming\\Python\\Python38\\site-packages\\debugpy\\_vendored\\pydevd\\pydevd.py:2070\u001b[0m, in \u001b[0;36mPyDB.do_wait_suspend\u001b[1;34m(self, thread, frame, event, arg, exception_type)\u001b[0m\n\u001b[0;32m   2067\u001b[0m             from_this_thread\u001b[38;5;241m.\u001b[39mappend(frame_custom_thread_id)\n\u001b[0;32m   2069\u001b[0m     \u001b[38;5;28;01mwith\u001b[39;00m \u001b[38;5;28mself\u001b[39m\u001b[38;5;241m.\u001b[39m_threads_suspended_single_notification\u001b[38;5;241m.\u001b[39mnotify_thread_suspended(thread_id, thread, stop_reason):\n\u001b[1;32m-> 2070\u001b[0m         keep_suspended \u001b[38;5;241m=\u001b[39m \u001b[38;5;28;43mself\u001b[39;49m\u001b[38;5;241;43m.\u001b[39;49m\u001b[43m_do_wait_suspend\u001b[49m\u001b[43m(\u001b[49m\u001b[43mthread\u001b[49m\u001b[43m,\u001b[49m\u001b[43m \u001b[49m\u001b[43mframe\u001b[49m\u001b[43m,\u001b[49m\u001b[43m \u001b[49m\u001b[43mevent\u001b[49m\u001b[43m,\u001b[49m\u001b[43m \u001b[49m\u001b[43marg\u001b[49m\u001b[43m,\u001b[49m\u001b[43m \u001b[49m\u001b[43msuspend_type\u001b[49m\u001b[43m,\u001b[49m\u001b[43m \u001b[49m\u001b[43mfrom_this_thread\u001b[49m\u001b[43m,\u001b[49m\u001b[43m \u001b[49m\u001b[43mframes_tracker\u001b[49m\u001b[43m)\u001b[49m\n\u001b[0;32m   2072\u001b[0m frames_list \u001b[38;5;241m=\u001b[39m \u001b[38;5;28;01mNone\u001b[39;00m\n\u001b[0;32m   2074\u001b[0m \u001b[38;5;28;01mif\u001b[39;00m keep_suspended:\n\u001b[0;32m   2075\u001b[0m     \u001b[38;5;66;03m# This means that we should pause again after a set next statement.\u001b[39;00m\n",
      "File \u001b[1;32m~\\AppData\\Roaming\\Python\\Python38\\site-packages\\debugpy\\_vendored\\pydevd\\pydevd.py:2106\u001b[0m, in \u001b[0;36mPyDB._do_wait_suspend\u001b[1;34m(self, thread, frame, event, arg, suspend_type, from_this_thread, frames_tracker)\u001b[0m\n\u001b[0;32m   2103\u001b[0m         \u001b[38;5;28mself\u001b[39m\u001b[38;5;241m.\u001b[39m_call_input_hook()\n\u001b[0;32m   2105\u001b[0m     \u001b[38;5;28mself\u001b[39m\u001b[38;5;241m.\u001b[39mprocess_internal_commands()\n\u001b[1;32m-> 2106\u001b[0m     \u001b[43mtime\u001b[49m\u001b[38;5;241;43m.\u001b[39;49m\u001b[43msleep\u001b[49m\u001b[43m(\u001b[49m\u001b[38;5;241;43m0.01\u001b[39;49m\u001b[43m)\u001b[49m\n\u001b[0;32m   2108\u001b[0m \u001b[38;5;28mself\u001b[39m\u001b[38;5;241m.\u001b[39mcancel_async_evaluation(get_current_thread_id(thread), \u001b[38;5;28mstr\u001b[39m(\u001b[38;5;28mid\u001b[39m(frame)))\n\u001b[0;32m   2110\u001b[0m \u001b[38;5;66;03m# process any stepping instructions\u001b[39;00m\n",
      "\u001b[1;31mKeyboardInterrupt\u001b[0m: "
     ]
    }
   ],
   "source": [
    "epochs = 100\n",
    "steps_per_epoch = 20\n",
    "save_every = 50\n",
    "eval_every = 10\n",
    "eval_rollout = 10\n",
    "buffer_size = 10000\n",
    "update_every = 100\n",
    "max_len = 20           ## self.H\n",
    "batch_size = 128\n",
    "state_size = 1         ## \n",
    "action_size = 10       ## self.A\n",
    "hidden_size = 256\n",
    "learning_rate = 1e-3\n",
    "eps = 0.7\n",
    "tau = 0.995\n",
    "gamma = 0.9\n",
    "device = \"cpu\"\n",
    "seeds = [0, 11, 22, 33, 44, 55, 66, 77, 88, 99]\n",
    "seed = seeds[0]\n",
    "\n",
    "eps_start = 1.0    # starting value of epsilon\n",
    "eps_end = 0.01     # minimum value of epsilon\n",
    "eps_decay = 0.995  # multiplicative factor (per episode) for decreasing epsilon\n",
    "\n",
    "eval_rew_list = []\n",
    "for seed in seeds:\n",
    "    random.seed(seed)\n",
    "    torch.manual_seed(seed)\n",
    "\n",
    "    # replaybuffer = ReplayBuffer(buffer_size, batch_size)\n",
    "    agent = DQNAgent(state_size, action_size, hidden_size, \n",
    "                    buffer_size, batch_size, update_every,\n",
    "                    learning_rate, gamma, tau, device)\n",
    "    env = CombLockMDP()### CHANGED ####\n",
    "\n",
    "    # Training loop\n",
    "    # eps = eps_start\n",
    "    eps = 0.5\n",
    "    eval_rew = []\n",
    "    for i in range(epochs):\n",
    "        state = env.reset()\n",
    "        for t in range(max_len):\n",
    "            action = agent.act(state, eps)\n",
    "            next_state, reward, done, _ = env.step(action)\n",
    "            agent.step(state, action, reward, next_state, done)\n",
    "            state = next_state\n",
    "            if done:\n",
    "                break\n",
    "        # Decrease epsilon\n",
    "        # eps = max(eps_end, eps_decay*eps)\n",
    "        # eps = 0.5\n",
    "        # eps = eps_start - (eps_start-eps_end)/total_steps * agent.update_steps\n",
    "        \n",
    "        for _ in range(steps_per_epoch):\n",
    "            agent.train()\n",
    "        \n",
    "        if (i + 1) % eval_every == 0:\n",
    "            scores = []\n",
    "            while len(scores) < eval_rollout:\n",
    "                state = env.reset(bool=True)\n",
    "                done = False\n",
    "                score = []\n",
    "                for t in range(max_len):\n",
    "                    action = agent.act(state, eps=0.0)\n",
    "                    next_state, reward, done, _ = env.step(action)\n",
    "                    score.append(reward)\n",
    "                    state = next_state\n",
    "                    # Exit loop if episode finished\n",
    "                    if done:\n",
    "                        break\n",
    "                score = discounted_cumsum(np.array(score), gamma)[0]\n",
    "                scores.append(score)\n",
    "            eval_rew.append(np.mean(scores))\n",
    "            print(f\"Epoch {i+1}\\tAverage Score: {np.mean(scores)}\\teps = {eps}\")\n",
    "\n",
    "        if (i + 1) % save_every == 0:\n",
    "            torch.save(agent.q.state_dict(), f'checkpoint_episode_{i + 1}.pth')\n",
    "\n",
    "    print(\"Training completed.\")\n",
    "    eval_rew_list.append(np.array(eval_rew))"
   ]
  },
  {
   "cell_type": "markdown",
   "metadata": {
    "id": "h_R3hhOMVctb"
   },
   "source": [
    "## Problem 4 (3 points)\n",
    "\n",
    "Implement DQN with RND using a randomly neural network as the target network $f:S\\rightarrow \\mathbb{R}^d$, and use the reward bonus in the form of $\\alpha||\\hat{f}(s)-f(s)||_2^2$. \n",
    "\n",
    "Run DQN+RND in the combination lock MDP (with turned hyperparameters, including $\\alpha$, the replay buffer size, learning rates, etc) and plot its learning curve: Cumulative reward v.s. training episode same as in HW2.\n",
    "\n",
    "An example implementation of DQN+RND can be found [here](https://github.com/orrivlin/MountainCar_DQN_RND)."
   ]
  },
  {
   "cell_type": "code",
   "execution_count": null,
   "metadata": {
    "id": "ElbxmHlGVctb"
   },
   "outputs": [],
   "source": [
    "## Your code goes here"
   ]
  },
  {
   "cell_type": "markdown",
   "metadata": {
    "id": "h2_XsjYMVctc",
    "outputId": "2868c485-83d3-4f16-c8f3-78c0d0ee28dc"
   },
   "source": [
    "## Problem 5 (1 points)\n",
    "\n",
    "Plot the performance curve of UCBVI, DQN with $\\epsilon$-greedy, and DQN+RND in the same figure."
   ]
  },
  {
   "cell_type": "code",
   "execution_count": null,
   "metadata": {},
   "outputs": [],
   "source": [
    "## Your code goes here"
   ]
  }
 ],
 "metadata": {
  "colab": {
   "provenance": []
  },
  "kernelspec": {
   "display_name": "Python 3 (ipykernel)",
   "language": "python",
   "name": "python3"
  },
  "language_info": {
   "codemirror_mode": {
    "name": "ipython",
    "version": 3
   },
   "file_extension": ".py",
   "mimetype": "text/x-python",
   "name": "python",
   "nbconvert_exporter": "python",
   "pygments_lexer": "ipython3",
   "version": "3.8.2"
  }
 },
 "nbformat": 4,
 "nbformat_minor": 1
}
